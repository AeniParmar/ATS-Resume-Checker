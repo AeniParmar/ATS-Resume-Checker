{
  "nbformat": 4,
  "nbformat_minor": 0,
  "metadata": {
    "colab": {
      "provenance": [],
      "authorship_tag": "ABX9TyPsQtHK+jRJnOX0Ew0vx6jR",
      "include_colab_link": true
    },
    "kernelspec": {
      "name": "python3",
      "display_name": "Python 3"
    },
    "language_info": {
      "name": "python"
    }
  },
  "cells": [
    {
      "cell_type": "markdown",
      "metadata": {
        "id": "view-in-github",
        "colab_type": "text"
      },
      "source": [
        "<a href=\"https://colab.research.google.com/github/AeniParmar/Machine-Learning/blob/main/Machine%20learning.ipynb\" target=\"_parent\"><img src=\"https://colab.research.google.com/assets/colab-badge.svg\" alt=\"Open In Colab\"/></a>"
      ]
    },
    {
      "cell_type": "code",
      "execution_count": 2,
      "metadata": {
        "id": "8V3F-gvSWLtf",
        "outputId": "704e3f8e-ebbd-4d12-8fc4-cfe165d6526d",
        "colab": {
          "base_uri": "https://localhost:8080/"
        }
      },
      "outputs": [
        {
          "output_type": "stream",
          "name": "stdout",
          "text": [
            "fatal: destination path 'Machine-Learning' already exists and is not an empty directory.\n",
            "/content/Machine-Learning\n"
          ]
        }
      ],
      "source": [
        "!git clone https://github.com/AeniParmar/Machine-Learning.git\n",
        "%cd Machine-Learning\n"
      ]
    },
    {
      "cell_type": "code",
      "source": [],
      "metadata": {
        "id": "awqXJ3TTMC_r"
      },
      "execution_count": null,
      "outputs": []
    }
  ]
}